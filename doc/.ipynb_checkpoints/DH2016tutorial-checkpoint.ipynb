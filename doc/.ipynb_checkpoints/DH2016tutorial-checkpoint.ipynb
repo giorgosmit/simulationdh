{
 "cells": [
  {
   "cell_type": "code",
   "execution_count": 1,
   "metadata": {
    "collapsed": true
   },
   "outputs": [],
   "source": [
    "%matplotlib inline"
   ]
  },
  {
   "cell_type": "markdown",
   "metadata": {},
   "source": [
    "# Introduction to Simulation: Complex social dynamics in a few lines of code"
   ]
  },
  {
   "cell_type": "markdown",
   "metadata": {},
   "source": [
    "We will create a model depicting competition between two cultural traits within a common population. This is a typical cultural dynamics scenario where individuals must adopt one option amongst two or more **mutually exclusive** options (i.e. religion, elections, football teams, ...). In this case we are interested in situations when you have to choose one option (e.g., you cannot practice two religions), but more complex versions with individuals adopting more than one trait can easily be developed.\n",
    "\n",
    "Individuals can change their choice over time. The decision is based on the payoff of each trait. This payoff is a measure of the relative interest of the trait, based on: \n",
    "\n",
    "a) how many people exhibits the trait and \n",
    "\n",
    "b) the attractiveness of the trait.\n",
    "\n",
    "An example of this dynamic could be a competition between two different religions. The number of people practicing a belief makes this belief more appealing. However, some beliefs could be intrinsically more interesting for some individuals so part of the population could adopt them even if they are a minority. Finally, social norms are not static so the attractiveness of specific beliefs can vary over time.\n"
   ]
  },
  {
   "cell_type": "markdown",
   "metadata": {
    "collapsed": false
   },
   "source": [
    "![general overview of the model](diagram.png)"
   ]
  },
  {
   "cell_type": "markdown",
   "metadata": {},
   "source": [
    "Time is divided in discrete steps starting at t = 0. \n",
    "\n",
    "At each step t the two populations $A_t$ and $B_t$ are updated as individuals move from A to B and from B to A. Take intoa ccout that the value here can be negative meaning that more people move from B to A.\n",
    "\n",
    "\\begin{equation*}\n",
    "A_{t+1} = A_t + \\Delta AB\n",
    "\\end{equation*}\n",
    "\n",
    "\\begin{equation*}\n",
    "B_{t+1} = B_t - \\Delta AB\n",
    "\\end{equation*}   \n",
    "\n",
    "Let's see how we can express it in code. \n",
    "\n",
    "<!--XRC: no needed because they all use python 3.2\n",
    "We start with an auxiliary line of code which prevents truncation when dividing integers. You don't have to worry about it now but just keep in mind to start any code written in Python 2.7 or earlier with this line. If you have installed Python 3.2 or higher you can skip this line.\n",
    "from __future__ import division\n",
    "-->"
   ]
  },
  {
   "cell_type": "markdown",
   "metadata": {},
   "source": [
    "First, we need to define the number of individuals in the population. Say we want to start with 100 people. The text after a hash symbol is just a comment so you can skip it for now, but in general it is a good idea to keep documenting the code as you write."
   ]
  },
  {
   "cell_type": "code",
   "execution_count": 1,
   "metadata": {
    "collapsed": true
   },
   "outputs": [],
   "source": [
    "N = 100   # total population size"
   ]
  },
  {
   "cell_type": "markdown",
   "metadata": {},
   "source": [
    "Then, we decide on how many believers of each cultural option (religion) we want to start with. "
   ]
  },
  {
   "cell_type": "code",
   "execution_count": 2,
   "metadata": {
    "collapsed": false
   },
   "outputs": [
    {
     "ename": "NameError",
     "evalue": "name 'N' is not defined",
     "output_type": "error",
     "traceback": [
      "\u001b[1;31m---------------------------------------------------------------------------\u001b[0m",
      "\u001b[1;31mNameError\u001b[0m                                 Traceback (most recent call last)",
      "\u001b[1;32m<ipython-input-2-39b4b9b4f85d>\u001b[0m in \u001b[0;36m<module>\u001b[1;34m()\u001b[0m\n\u001b[0;32m      1\u001b[0m \u001b[0mA\u001b[0m \u001b[1;33m=\u001b[0m \u001b[1;36m65\u001b[0m    \u001b[1;31m# initial number of believers A\u001b[0m\u001b[1;33m\u001b[0m\u001b[0m\n\u001b[1;32m----> 2\u001b[1;33m \u001b[0mB\u001b[0m \u001b[1;33m=\u001b[0m \u001b[0mN\u001b[0m \u001b[1;33m-\u001b[0m \u001b[0mA\u001b[0m \u001b[1;31m# initial number of believers A\u001b[0m\u001b[1;33m\u001b[0m\u001b[0m\n\u001b[0m",
      "\u001b[1;31mNameError\u001b[0m: name 'N' is not defined"
     ]
    }
   ],
   "source": [
    "A = 65    # initial number of believers A\n",
    "B = N - A # initial number of believers A"
   ]
  },
  {
   "cell_type": "markdown",
   "metadata": {},
   "source": [
    "Finally, we want to update these quantities at every time step depending on some variation:"
   ]
  },
  {
   "cell_type": "code",
   "execution_count": 3,
   "metadata": {
    "collapsed": false,
    "scrolled": true
   },
   "outputs": [
    {
     "ename": "NameError",
     "evalue": "name 'variation' is not defined",
     "output_type": "error",
     "traceback": [
      "\u001b[1;31m---------------------------------------------------------------------------\u001b[0m",
      "\u001b[1;31mNameError\u001b[0m                                 Traceback (most recent call last)",
      "\u001b[1;32m<ipython-input-3-3a54da9d0f70>\u001b[0m in \u001b[0;36m<module>\u001b[1;34m()\u001b[0m\n\u001b[0;32m      2\u001b[0m \u001b[0mMAX_TIME\u001b[0m \u001b[1;33m=\u001b[0m \u001b[1;36m100\u001b[0m\u001b[1;33m\u001b[0m\u001b[0m\n\u001b[0;32m      3\u001b[0m \u001b[1;32mwhile\u001b[0m \u001b[0mt\u001b[0m \u001b[1;33m<\u001b[0m \u001b[0mMAX_TIME\u001b[0m\u001b[1;33m:\u001b[0m\u001b[1;33m\u001b[0m\u001b[0m\n\u001b[1;32m----> 4\u001b[1;33m     \u001b[0mA\u001b[0m \u001b[1;33m=\u001b[0m \u001b[0mA\u001b[0m \u001b[1;33m+\u001b[0m \u001b[0mvariation\u001b[0m\u001b[1;33m\u001b[0m\u001b[0m\n\u001b[0m\u001b[0;32m      5\u001b[0m     \u001b[0mB\u001b[0m \u001b[1;33m=\u001b[0m \u001b[0mB\u001b[0m \u001b[1;33m-\u001b[0m \u001b[0mvariation\u001b[0m\u001b[1;33m\u001b[0m\u001b[0m\n\u001b[0;32m      6\u001b[0m \u001b[1;33m\u001b[0m\u001b[0m\n",
      "\u001b[1;31mNameError\u001b[0m: name 'variation' is not defined"
     ]
    }
   ],
   "source": [
    "t = 0\n",
    "MAX_TIME = 100\n",
    "while t < MAX_TIME:\n",
    "    A = A + variation\n",
    "    B = B - variation\n",
    "    \n",
    "    # advance time to next iteration\n",
    "    t = t + 1    "
   ]
  },
  {
   "cell_type": "markdown",
   "metadata": {},
   "source": [
    "Type the code in the code tab. Keep in mind that indents are important. \n",
    "\n",
    "Run the code by hitting F5 (or click on a green triangle). What happens? "
   ]
  },
  {
   "cell_type": "markdown",
   "metadata": {},
   "source": [
    "Well, nothing happens or, rather, we get an error. \n",
    "```python\n",
    "NameError: name variation is not defined \n",
    "```\n",
    "Indeed, we have not defined what do we mean by 'variation'. So let's calculate it based on the population switching trait based on a comparison between payoffs. For example if B has higher payoff then A then we should get something like this:\n",
    "\\begin{equation*}\n",
    "\\Delta_{A\\to B} = A · (payoff_{A\\to B} - payoff_{B\\to A})\n",
    "\\end{equation*}"
   ]
  },
  {
   "cell_type": "markdown",
   "metadata": {},
   "source": [
    "So the proportion of population A that switches to B is proportional to the difference between payoffs. As we mentioned the payoff of a trait is determined by the population exhibiting the competing trait as well as its intrinsic attractiveness."
   ]
  },
  {
   "cell_type": "markdown",
   "metadata": {},
   "source": [
    "To define the payoff we need to implement the following competition equations:\n",
    "\n",
    "\\begin{equation*}\n",
    "Payoff_{B\\to A} = \\frac{A_t}{N}\\ \\frac {T_A} {(T_A + T_B)}\\\n",
    "\\end{equation*} \n",
    "\n",
    "\n",
    "\\begin{equation*}\n",
    "Payoff_{A\\to B} = \\frac{B_t}{N}\\ \\frac {T_B} {(T_A + T_B)}\\\n",
    "\\end{equation*} \n",
    "\n",
    "Let's look at the equations a bit more closely. The first term is the proportion of the entire population N holding a particular cultural trait ($\\frac {A_t}{N}$ for $A$ and $\\frac {B_t}{N}$ for $B$). While the second element of the equations is the balance between the attractiveness of both ideas ($T_A$ and $T_B$) expressed as the attractiveness of the given trait in respect to the total 'available' attractiveness ($T_A + T_B$). \n",
    "\n",
    "You have probably immediately noticed that these two equations are the same in structure and only differ in terms of what is put into them. Therefore, to avoid unnecessary hassle we will create a 'universal' function that can be used for both. Type the code below at the beginning of your script:"
   ]
  },
  {
   "cell_type": "code",
   "execution_count": 4,
   "metadata": {
    "collapsed": true
   },
   "outputs": [],
   "source": [
    "def payoff(believers, Tx,Ty):    \n",
    "    proportionBelievers = believers/N\n",
    "    attraction = Tx/(Ty + Tx)\n",
    "    return proportionBelievers * attraction"
   ]
  },
  {
   "cell_type": "markdown",
   "metadata": {},
   "source": [
    "Let's break it down a little. First we define the function and give it the input - the number of believers and the two values that define how attractive each cultural option is. \n",
    "```python\n",
    "def payoff(believers, Tx, Ty):\n",
    "```\n",
    "Then we calculate two values:\n",
    "\n",
    "1. percentage of population sharing this cultural option\n",
    "```python\n",
    "    proportionBelievers = believers/N    \n",
    "```    \n",
    "2. how attractive the option is\n",
    "```python\n",
    "    attraction = Tx/(Ty + Tx)\n",
    "```    \n",
    "\n",
    "Look at the equations above, the first element is just the $\\frac {A_t}{N}$ and $\\frac {B_t}{N}$ part and the second is this bit: $\\frac {T_A} {(T_A + T_B)}$. \n",
    "Finally we return the results of the calculations. \n",
    "```python\n",
    "    return proportionBelievers * attraction\n",
    "```\n",
    "\n",
    "Voila! We have implemented the equation into Python code. Now, let's modify the main loop to call the function - we need to do it twice to get the payoff for changing from A to B and from B to A. This is repeated during each iteration of the loop, so each time we can pass different values into it. To get the payoffs for switching from A to B and from B to A we have to add the calls to 'payoff' at the beginning of our loop:"
   ]
  },
  {
   "cell_type": "code",
   "execution_count": 5,
   "metadata": {
    "collapsed": false
   },
   "outputs": [
    {
     "ename": "NameError",
     "evalue": "name 'Ta' is not defined",
     "output_type": "error",
     "traceback": [
      "\u001b[1;31m---------------------------------------------------------------------------\u001b[0m",
      "\u001b[1;31mNameError\u001b[0m                                 Traceback (most recent call last)",
      "\u001b[1;32m<ipython-input-5-7c7966597477>\u001b[0m in \u001b[0;36m<module>\u001b[1;34m()\u001b[0m\n\u001b[0;32m      1\u001b[0m \u001b[1;32mwhile\u001b[0m \u001b[0mt\u001b[0m \u001b[1;33m<\u001b[0m \u001b[0mMAX_TIME\u001b[0m\u001b[1;33m:\u001b[0m\u001b[1;33m\u001b[0m\u001b[0m\n\u001b[0;32m      2\u001b[0m \u001b[1;33m\u001b[0m\u001b[0m\n\u001b[1;32m----> 3\u001b[1;33m     \u001b[0mvariationBA\u001b[0m \u001b[1;33m=\u001b[0m \u001b[0mpayoff\u001b[0m\u001b[1;33m(\u001b[0m\u001b[0mA\u001b[0m\u001b[1;33m,\u001b[0m \u001b[0mTa\u001b[0m\u001b[1;33m,\u001b[0m \u001b[0mTb\u001b[0m\u001b[1;33m)\u001b[0m\u001b[1;33m\u001b[0m\u001b[0m\n\u001b[0m\u001b[0;32m      4\u001b[0m     \u001b[0mvariationAB\u001b[0m \u001b[1;33m=\u001b[0m \u001b[0mpayoff\u001b[0m\u001b[1;33m(\u001b[0m\u001b[0mB\u001b[0m\u001b[1;33m,\u001b[0m \u001b[0mTb\u001b[0m\u001b[1;33m,\u001b[0m \u001b[0mTa\u001b[0m\u001b[1;33m)\u001b[0m\u001b[1;33m\u001b[0m\u001b[0m\n\u001b[0;32m      5\u001b[0m \u001b[1;33m\u001b[0m\u001b[0m\n",
      "\u001b[1;31mNameError\u001b[0m: name 'Ta' is not defined"
     ]
    }
   ],
   "source": [
    "while t < MAX_TIME:\n",
    "    \n",
    "    variationBA = payoff(A, Ta, Tb)\n",
    "    variationAB = payoff(B, Tb, Ta)\n",
    "    \n",
    "    A = A + variation\n",
    "    B = B - variation\n",
    "    \n",
    "    # advance time to next iteration\n",
    "    t = t + 1    "
   ]
  },
  {
   "cell_type": "markdown",
   "metadata": {},
   "source": [
    "That is, we pass the number of believers and the attractiveness of the traits. The order in which we pass the input variables into a function is important. In the B to A transmission, B becomes 'believers', while Ta becomes 'Tx' and Tb becomes 'Ty'. In the second line showing the A to B transmission, A becomes '_believers', Tb becomes 'Tx' and Ta becomes 'Ty'."
   ]
  },
  {
   "cell_type": "markdown",
   "metadata": {},
   "source": [
    "The obvious problem after this change is that we have not defined the 'attractiveness' of each trait. To do so add their definitions at the beginning of the script around other definitions (N, A, B, MAX_TIME, etc). "
   ]
  },
  {
   "cell_type": "code",
   "execution_count": 6,
   "metadata": {
    "collapsed": true
   },
   "outputs": [],
   "source": [
    "Ta = 1.0            # initial attractiveness of option A\n",
    "Tb = 2.0            # initial attractiveness of option B\n",
    "alpha = 0.1         # strength of the transmission process"
   ]
  },
  {
   "cell_type": "markdown",
   "metadata": {},
   "source": [
    "We can now calculate the difference between the perceived payoffs during this time step. To do so, we need to first see which one did better (A or B).  "
   ]
  },
  {
   "cell_type": "code",
   "execution_count": 7,
   "metadata": {
    "collapsed": false
   },
   "outputs": [
    {
     "ename": "NameError",
     "evalue": "name 'variationBA' is not defined",
     "output_type": "error",
     "traceback": [
      "\u001b[1;31m---------------------------------------------------------------------------\u001b[0m",
      "\u001b[1;31mNameError\u001b[0m                                 Traceback (most recent call last)",
      "\u001b[1;32m<ipython-input-7-5ac21a8bcc38>\u001b[0m in \u001b[0;36m<module>\u001b[1;34m()\u001b[0m\n\u001b[1;32m----> 1\u001b[1;33m \u001b[0mdifference\u001b[0m \u001b[1;33m=\u001b[0m \u001b[0mvariationBA\u001b[0m \u001b[1;33m-\u001b[0m \u001b[0mvariationAB\u001b[0m\u001b[1;33m\u001b[0m\u001b[0m\n\u001b[0m",
      "\u001b[1;31mNameError\u001b[0m: name 'variationBA' is not defined"
     ]
    }
   ],
   "source": [
    "    difference = variationBA - variationAB"
   ]
  },
  {
   "cell_type": "markdown",
   "metadata": {},
   "source": [
    "Now, if the difference between the two is negative then we know that during time step B is more interesting than A. On the contrary, if it is positive then A seems better than B. What is left is to see how many people moved based on this difference between payoffs. We can express it in the main while loop, like this:"
   ]
  },
  {
   "cell_type": "code",
   "execution_count": 8,
   "metadata": {
    "collapsed": false
   },
   "outputs": [
    {
     "ename": "NameError",
     "evalue": "name 'difference' is not defined",
     "output_type": "error",
     "traceback": [
      "\u001b[1;31m---------------------------------------------------------------------------\u001b[0m",
      "\u001b[1;31mNameError\u001b[0m                                 Traceback (most recent call last)",
      "\u001b[1;32m<ipython-input-8-e00b0e1b32ba>\u001b[0m in \u001b[0;36m<module>\u001b[1;34m()\u001b[0m\n\u001b[0;32m      1\u001b[0m \u001b[1;31m# B -> A\u001b[0m\u001b[1;33m\u001b[0m\u001b[1;33m\u001b[0m\u001b[0m\n\u001b[1;32m----> 2\u001b[1;33m \u001b[1;32mif\u001b[0m \u001b[0mdifference\u001b[0m \u001b[1;33m>\u001b[0m \u001b[1;36m0\u001b[0m\u001b[1;33m:\u001b[0m\u001b[1;33m\u001b[0m\u001b[0m\n\u001b[0m\u001b[0;32m      3\u001b[0m     \u001b[0mvariation\u001b[0m \u001b[1;33m=\u001b[0m \u001b[0mdifference\u001b[0m\u001b[1;33m*\u001b[0m\u001b[0mB\u001b[0m\u001b[1;33m\u001b[0m\u001b[0m\n\u001b[0;32m      4\u001b[0m \u001b[1;31m# A -> B\u001b[0m\u001b[1;33m\u001b[0m\u001b[1;33m\u001b[0m\u001b[0m\n\u001b[0;32m      5\u001b[0m \u001b[1;32melse\u001b[0m\u001b[1;33m:\u001b[0m\u001b[1;33m\u001b[0m\u001b[0m\n",
      "\u001b[1;31mNameError\u001b[0m: name 'difference' is not defined"
     ]
    }
   ],
   "source": [
    "    # B -> A\n",
    "    if difference > 0:\n",
    "        variation = difference*B\n",
    "    # A -> B        \n",
    "    else:\n",
    "        variation = difference*A\n",
    "    # update the population    \n",
    "    A = A + variation\n",
    "    B = B - variation    "
   ]
  },
  {
   "cell_type": "markdown",
   "metadata": {},
   "source": [
    "We can use an additional term to have a control over how strong the transmission from A to B and back is - we will call it alpha (α). This parameter will multiply change before we modify populations A and B:"
   ]
  },
  {
   "cell_type": "code",
   "execution_count": 9,
   "metadata": {
    "collapsed": false
   },
   "outputs": [
    {
     "ename": "NameError",
     "evalue": "name 'variation' is not defined",
     "output_type": "error",
     "traceback": [
      "\u001b[1;31m---------------------------------------------------------------------------\u001b[0m",
      "\u001b[1;31mNameError\u001b[0m                                 Traceback (most recent call last)",
      "\u001b[1;32m<ipython-input-9-a661a3be48c1>\u001b[0m in \u001b[0;36m<module>\u001b[1;34m()\u001b[0m\n\u001b[1;32m----> 1\u001b[1;33m \u001b[0mvariation\u001b[0m \u001b[1;33m=\u001b[0m \u001b[0malpha\u001b[0m\u001b[1;33m*\u001b[0m\u001b[0mvariation\u001b[0m\u001b[1;33m\u001b[0m\u001b[0m\n\u001b[0m",
      "\u001b[1;31mNameError\u001b[0m: name 'variation' is not defined"
     ]
    }
   ],
   "source": [
    "    variation = alpha*variation"
   ]
  },
  {
   "cell_type": "markdown",
   "metadata": {},
   "source": [
    "And we need to add it to the rest of the parameters of our model:"
   ]
  },
  {
   "cell_type": "code",
   "execution_count": 10,
   "metadata": {
    "collapsed": true
   },
   "outputs": [],
   "source": [
    "# temporal dimension\n",
    "MAX_TIME = 100\n",
    "t = 0               # initial time\n",
    "\n",
    "# init populations\n",
    "N = 100          # population size\n",
    "A = 65           # initial population of believers A\n",
    "B = N-A             # initial population of believers B\n",
    "\n",
    "# additional params\n",
    "Ta = 1.0            # initial attractiveness of option A\n",
    "Tb = 2.0            # initial attractiveness of option B\n",
    "alpha = 0.1         # strength of the transmission process"
   ]
  },
  {
   "cell_type": "markdown",
   "metadata": {},
   "source": [
    "You should bear in mind that the main loop code should be located after the definition of the transmission function and the initialization of variables (because they are used here). After all the edits you have done it should look like this:"
   ]
  },
  {
   "cell_type": "code",
   "execution_count": 11,
   "metadata": {
    "collapsed": false
   },
   "outputs": [],
   "source": [
    "while t < MAX_TIME:\n",
    "    # calculate the payoff for change of believers A and B in the current time step       \n",
    "    variationBA = payoff(A, Ta, Tb)      \n",
    "    variationAB = payoff(B, Tb, Ta)     \n",
    "    difference = variationBA - variationAB\n",
    "             \n",
    "    # B -> A   \n",
    "    if difference > 0:\n",
    "        variation = difference*B\n",
    "    # A -> B        \n",
    "    else:\n",
    "        variation = difference*A\n",
    "        \n",
    "    # control the pace of change with alpha\n",
    "    variation = alpha*variation  \n",
    "    \n",
    "    # update the population    \n",
    "    A = A + variation\n",
    "    B = B - variation\n",
    "    \n",
    "    # advance time to next iteration\n",
    "    t = t + 1"
   ]
  },
  {
   "cell_type": "markdown",
   "metadata": {},
   "source": [
    "OK, we have all the elements ready now and if you run the code the computer will churn all the numbers somewhere in the background. However, it produces no output so we have no idea what is actually happening. Let's solve this by visualising the flow of believers from one option to another. \n",
    "First, we will create two empty lists. Second, we will add there the initial populations. Then, at each timestep, we will add the current number of believers to these lists and finally, at the end of the simulation run we will plot them to see how they changed over time. \n",
    "Start with creating two empty lists. Add the following code right after all the variable definitions at the beginning of the code before the while loop: "
   ]
  },
  {
   "cell_type": "code",
   "execution_count": 12,
   "metadata": {
    "collapsed": true
   },
   "outputs": [],
   "source": [
    "# initialise the list used for plotting\n",
    "believersA = []\n",
    "believersB = []\n",
    "\n",
    "# add the initial populations\n",
    "believersA.append(A) \n",
    "believersB.append(B)"
   ]
  },
  {
   "cell_type": "markdown",
   "metadata": {},
   "source": [
    "The whole initialisation/definition block at the beginning of your code should look like this: "
   ]
  },
  {
   "cell_type": "code",
   "execution_count": 13,
   "metadata": {
    "collapsed": true
   },
   "outputs": [],
   "source": [
    "# initialisation \n",
    "MAX_TIME = 100\n",
    "t = 0               # initial time\n",
    "N = 100           # population size\n",
    "A = 65              # initial proportion of believers A\n",
    "B = N-A             # initial proportion of believers B\n",
    "\n",
    "Ta = 1.0            # initial attractiveness of option A\n",
    "Tb = 2.0            # initial attractiveness of option B\n",
    "alpha = 0.1         # strength of the transmission process\n",
    "\n",
    "# initialise the list used for plotting\n",
    "believersA = []    \n",
    "believersB = []\n",
    "\n",
    "# add the initial populations\n",
    "believersA.append(A) \n",
    "believersB.append(B)"
   ]
  },
  {
   "cell_type": "markdown",
   "metadata": {},
   "source": [
    "We just added the initial number of believers to their respective lists. However, we also need to do this at the end of each time step. Add the following code at the end of the while loop - remember to align the indents with the previous line! "
   ]
  },
  {
   "cell_type": "code",
   "execution_count": 14,
   "metadata": {
    "collapsed": true
   },
   "outputs": [],
   "source": [
    "    believersA.append(A)\n",
    "    believersB.append(B)"
   ]
  },
  {
   "cell_type": "markdown",
   "metadata": {},
   "source": [
    "The whole while-loop block should now look like this: "
   ]
  },
  {
   "cell_type": "code",
   "execution_count": 15,
   "metadata": {
    "collapsed": false
   },
   "outputs": [],
   "source": [
    "while t < MAX_TIME: \n",
    "    # calculate the payoff for change of believers A and B in the current time step       \n",
    "    variationBA = payoff(A, Ta, Tb)      \n",
    "    variationAB = payoff(B, Tb, Ta)     \n",
    "    difference = variationBA - variationAB\n",
    "    \n",
    "        # B -> A   \n",
    "    if difference > 0:\n",
    "        variation = difference*B\n",
    "    # A -> B        \n",
    "    else:\n",
    "        variation = difference*A\n",
    "        \n",
    "    # control the pace of change with alpha\n",
    "    variation = alpha*variation  \n",
    "    \n",
    "    # update the population    \n",
    "    A = A + variation\n",
    "    B = B - variation   \n",
    "    \n",
    "    # save the values to a list for plotting    \n",
    "    believersA.append(A)\n",
    "    believersB.append(B)\n",
    "    \n",
    "    # advance time to next iteration\n",
    "    t = t + 1"
   ]
  },
  {
   "cell_type": "markdown",
   "metadata": {},
   "source": [
    "Finally, let's plot the results. First, we will import Python's plotting library, Matplotlib and use a predifined plotting style. Add these two lines at the beginning of your script:"
   ]
  },
  {
   "cell_type": "code",
   "execution_count": 16,
   "metadata": {
    "collapsed": true
   },
   "outputs": [],
   "source": [
    "import matplotlib.pyplot as plt      # plotting library\n",
    "plt.style.use('ggplot')              # makes the graphs look pretty"
   ]
  },
  {
   "cell_type": "markdown",
   "metadata": {},
   "source": [
    "Finally, let's plot! Plotting in Python is as easy as saying 'please plot this data for me'. Type these two lines at the very end of your code. We only want to plot the results once the simulation has finished so make sure this are not inside the while loop - that is, ensure this block of code is not indented. Run the code!"
   ]
  },
  {
   "cell_type": "code",
   "execution_count": 17,
   "metadata": {
    "collapsed": false,
    "scrolled": true
   },
   "outputs": [
    {
     "data": {
      "text/plain": [
       "[<matplotlib.lines.Line2D at 0x7f0deb281908>]"
      ]
     },
     "execution_count": 17,
     "metadata": {},
     "output_type": "execute_result"
    },
    {
     "data": {
      "image/png": "[encoded data removed]",
      "text/plain": [
       "<matplotlib.figure.Figure at 0x7f0deb2818d0>"
      ]
     },
     "metadata": {},
     "output_type": "display_data"
    }
   ],
   "source": [
    "# plot the results    \n",
    "plt.plot(believersA)\n",
    "plt.plot(believersB)"
   ]
  },
  {
   "cell_type": "markdown",
   "metadata": {},
   "source": [
    "You can see how over time one set of believers increases while the other decreases. This is not particularly surprising as the attractiveness Tb is higher than Ta. However, can you imagine a configuration where this is not enough to sway the population? Have a go at setting the variables to different initial values to see what combination can counteract this pattern. \n",
    "1. set the initial value of A to 5, 10, 25, 50, 75\n",
    "2. set the MAX_TIME to 1000,\n",
    "3. set the Ta and Tb to 1.0, 10.0, 0.1, 0.01, etc.,\n",
    "4. set alpha to 0.01, and 1.0\n",
    "\n",
    "You can try all sorts of configurations to see how quickly the population shifts from one option to another or what are the minimum values of each variable that prevent it. \n",
    "\n",
    "However, we can make the model more interesting if we allow the attractiveness of each option to change through time. To do so let's define a new function. Add the following line at the beginning of the while loop (remember indentation!). "
   ]
  },
  {
   "cell_type": "code",
   "execution_count": 18,
   "metadata": {
    "collapsed": false
   },
   "outputs": [
    {
     "ename": "NameError",
     "evalue": "name 'attractiveness' is not defined",
     "output_type": "error",
     "traceback": [
      "\u001b[1;31m---------------------------------------------------------------------------\u001b[0m",
      "\u001b[1;31mNameError\u001b[0m                                 Traceback (most recent call last)",
      "\u001b[1;32m<ipython-input-18-c7b0a9890c8d>\u001b[0m in \u001b[0;36m<module>\u001b[1;34m()\u001b[0m\n\u001b[1;32m----> 1\u001b[1;33m \u001b[0mTa\u001b[0m\u001b[1;33m,\u001b[0m \u001b[0mTb\u001b[0m \u001b[1;33m=\u001b[0m \u001b[0mattractiveness\u001b[0m\u001b[1;33m(\u001b[0m\u001b[0mTa\u001b[0m\u001b[1;33m,\u001b[0m \u001b[0mTb\u001b[0m\u001b[1;33m)\u001b[0m\u001b[1;33m\u001b[0m\u001b[0m\n\u001b[0m",
      "\u001b[1;31mNameError\u001b[0m: name 'attractiveness' is not defined"
     ]
    }
   ],
   "source": [
    "    Ta, Tb = attractiveness(Ta, Tb) "
   ]
  },
  {
   "cell_type": "markdown",
   "metadata": {},
   "source": [
    "Ta and Tb will then be modified based on some dynamics we want to model. Let's define the 'attractiveness' function. We have already done it once for the 'payoff' function so it should be a piece of cake. At each time step we will slightly modify the attractiveness of each trait using a kernel K that we will define. This can be expressed as: \n",
    "\n",
    "\\begin{equation*}\n",
    "T_{A, t+1} = {T_A} + {K_a}\n",
    "\\end{equation*} \n",
    "\n",
    "\\begin{equation*}\n",
    "T_{B, t+1} = {T_B} + {K_b}\n",
    "\\end{equation*} \n",
    "\n",
    "K can have several shapes such as:\n",
    "* Fixed traits with $K_a = K_b = 0$\n",
    "* A gaussian stochastic process such as $K = N (0, 1)$\n",
    "* A combination (e.g., $K_a = N (0, 1)$ and $K_b = 1/3)$\n",
    "\n",
    "Let's start with a simple case scenario, such as a) $T_a$ will increase each step by a fixed $K_a$ and b) $K_b$ is equal to zero (so $T_b$ will be fixed over the whole simulation)."
   ]
  },
  {
   "cell_type": "code",
   "execution_count": 19,
   "metadata": {
    "collapsed": true
   },
   "outputs": [],
   "source": [
    "def attractiveness(Ta, Tb):\n",
    "\n",
    "    Ka = 0.01  \n",
    "    Kb = 0\n",
    "    \n",
    "    Ta = Ta + Ka\n",
    "    Tb = Tb + Kb\n",
    "    return Ta, Tb"
   ]
  },
  {
   "cell_type": "markdown",
   "metadata": {},
   "source": [
    "First, we define the function and give it the input values. \n",
    "```python\n",
    "def attractiveness(Ta, Tb):\n",
    "```\n",
    "\n",
    "Then, we establish how much the attractiveness of each trait changes (i.e., define $K_a$ and $K_b$)\n",
    "```python \n",
    "Ka = 0.01         \n",
    "Kb = 0\n",
    "```\n",
    "\n",
    "And plug them into the equations:\n",
    "\n",
    "```python \n",
    "Ta = Ta + Ka\n",
    "Tb = Tb + Kb\n",
    "```\n",
    "\n",
    "Finally, we return the new values:\n",
    "```python \n",
    "return Ta, Tb\n",
    "```\n",
    "\n",
    "This is how the function is defined. The main loop will now look like this:"
   ]
  },
  {
   "cell_type": "code",
   "execution_count": 20,
   "metadata": {
    "collapsed": true
   },
   "outputs": [],
   "source": [
    "while t < MAX_TIME: \n",
    "    # update attractiveness\n",
    "    Ta, Tb = attractiveness(Ta, Tb)\n",
    "    # calculate the payoff for change of believers A and B in the current time step           \n",
    "    variationBA = payoff(A, Ta, Tb)      \n",
    "    variationAB = payoff(B, Tb, Ta)     \n",
    "    difference = variationBA - variationAB\n",
    "    \n",
    "        # B -> A   \n",
    "    if difference > 0:\n",
    "        variation = difference*B\n",
    "    # A -> B        \n",
    "    else:\n",
    "        variation = difference*A\n",
    "        \n",
    "    # control the pace of change with alpha\n",
    "    variation = alpha*variation  \n",
    "    \n",
    "    # update the population    \n",
    "    A = A + variation\n",
    "    B = B - variation   \n",
    "    \n",
    "    # save the values to a list for plotting    \n",
    "    believersA.append(A)\n",
    "    believersB.append(B)\n",
    "    \n",
    "    # advance time to next iteration\n",
    "    t = t + 1"
   ]
  },
  {
   "cell_type": "markdown",
   "metadata": {},
   "source": [
    "If you plot this you will get a different result than the previous:"
   ]
  },
  {
   "cell_type": "code",
   "execution_count": 21,
   "metadata": {
    "collapsed": false
   },
   "outputs": [
    {
     "data": {
      "text/plain": [
       "[<matplotlib.lines.Line2D at 0x7f0deb1c12e8>]"
      ]
     },
     "execution_count": 21,
     "metadata": {},
     "output_type": "execute_result"
    },
    {
     "data": {
      "image/png": "[encoded data removed]",
      "text/plain": [
       "<matplotlib.figure.Figure at 0x7f0deb1c12b0>"
      ]
     },
     "metadata": {},
     "output_type": "display_data"
    }
   ],
   "source": [
    "plt.plot(believersA)\n",
    "plt.plot(believersB) "
   ]
  },
  {
   "cell_type": "markdown",
   "metadata": {},
   "source": [
    "Have a go at changing the values of $K_a$ and $K_b$ and see what happens. Can you see any equilibrium where both traits coexist?"
   ]
  },
  {
   "cell_type": "markdown",
   "metadata": {},
   "source": [
    "There are a number of functions we can use to dynamically change the 'attractiveness' of each trait. Try the following ones:"
   ]
  },
  {
   "cell_type": "code",
   "execution_count": 22,
   "metadata": {
    "collapsed": true
   },
   "outputs": [],
   "source": [
    "import numpy as np # stick this line at the beginning of the script alongside other 'imports'\n",
    "\n",
    "\n",
    "def attractiveness2(Ta, Tb):\n",
    "    # temporal autocorrelation with stochasticity (normal distribution)\n",
    "    # we get 2 samples from a normal distribution N(0,1)\n",
    "    Ka, Kb = np.random.normal(0, 1, 2)\n",
    "    # compute the difference between Ks\n",
    "    diff = Ka-Kb\n",
    "    # apply difference of Ks to attractiveness\n",
    "    Ta += diff\n",
    "    Tb -= diff\n",
    "    return Ta, Tb\n",
    "\n",
    "def attractiveness3(Ta, Tb):\n",
    "    #  anti-conformism dynamics (more population means less attractiveness)\n",
    "    \n",
    "    # both values initialized at 0\n",
    "    Ka = 0\n",
    "    Kb = 0\n",
    "    \n",
    "    # first we sample gamma with mean=last popSize of A times relevance    \n",
    "    diffPop = np.random.gamma(believersA[t])\n",
    "    # we sustract from this value the same computation for population B\n",
    "    diffPop = diffPop - np.random.gamma(believersB[t])\n",
    "    \n",
    "    # if B is larger then we need to increase the attractiveness of A\n",
    "    if diffPop < 0:\n",
    "        Ka = -diffPop\n",
    "    # else A is larger and we need to increase the attractiveness of B\n",
    "    else:\n",
    "        Kb = diffPop\n",
    "    \n",
    "    # change current values\n",
    "    Ta = Ta + Ka\n",
    "    Tb = Tb + Kb\n",
    "    \n",
    "    return Ta, Tb"
   ]
  },
  {
   "cell_type": "markdown",
   "metadata": {},
   "source": [
    "Use the functions above (just change 'attractiveness' to, e.g., 'attractiveness2' in the main code) to see what happens when we add small dynamic variations to the process. What happens when the initial conditions are changed? What if we look at a much longer time scale? "
   ]
  }
 ],
 "metadata": {
  "kernelspec": {
   "display_name": "Python 3",
   "language": "python",
   "name": "python3"
  },
  "language_info": {
   "codemirror_mode": {
    "name": "ipython",
    "version": 3
   },
   "file_extension": ".py",
   "mimetype": "text/x-python",
   "name": "python",
   "nbconvert_exporter": "python",
   "pygments_lexer": "ipython3",
   "version": "3.4.3"
  }
 },
 "nbformat": 4,
 "nbformat_minor": 0
}
