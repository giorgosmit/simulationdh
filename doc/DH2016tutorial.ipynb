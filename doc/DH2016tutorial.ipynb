{
 "cells": [
  {
   "cell_type": "code",
   "execution_count": null,
   "metadata": {
    "collapsed": true
   },
   "outputs": [],
   "source": [
    "# an extra line to display the results in Ipython notebook, remove before sharing the tutorial.\n",
    "%matplotlib inline"
   ]
  },
  {
   "cell_type": "markdown",
   "metadata": {},
   "source": [
    "We will create a model depicting competition between two cultural traits within a common population. This is a typical cultural dynamics scenario where individuals must adopt one option amongst two or more **mutually exclusive** options (i.e. religion, elections, football teams, ...). In this case we are interested in situations when you have to choose one option (e.g., you cannot practice two religions), but more complex versions with individuals adopting more than one trait can easily be developed.\n",
    "\n",
    "Individuals can change their choice over time. The decision is based on the payoff of each trait. This payoff is a measure of the relative interest of the trait, based on: \n",
    "\n",
    "a) how many people exhibits the trait and \n",
    "\n",
    "b) the attractiveness of the trait.\n",
    "\n",
    "An example of this dynamic could be a competition between two different religions. The number of people practicing a belief makes this belief more appealing. However, some beliefs could be intrinsically more interesting for some individuals so part of the population could adopt them even if they are a minority. Finally, social norms are not static so the attractiveness of specific beliefs can vary over time.\n"
   ]
  },
  {
   "cell_type": "markdown",
   "metadata": {},
   "source": [
    "# Introduction to Simulation: Complex social dynamics in a few lines of code"
   ]
  },
  {
   "cell_type": "markdown",
   "metadata": {
    "collapsed": false
   },
   "source": [
    "![general overview of the model](diagram.png)"
   ]
  },
  {
   "cell_type": "markdown",
   "metadata": {},
   "source": [
    "Time is divided in discrete steps starting at t = 0. \n",
    "\n",
    "At each step t the two populations $A_t$ and $B_t$ are updated as individuals move from A to B and from B to A (the value here can be negative meaning that more people leave than arrive).\n",
    "\n",
    "\\begin{equation*}\n",
    "A_{t+1} = A_t + \\Delta AB\n",
    "\\end{equation*} \n",
    "\\begin{equation*}\n",
    "B_{t+1} = B_t + \\Delta AB\n",
    "\\end{equation*}   \n",
    "\n",
    "Let's see how we can express it in code. \n",
    "\n",
    "<!--XRC: no needed because they all use python 3.2\n",
    "We start with an auxiliary line of code which prevents truncation when dividing integers. You don't have to worry about it now but just keep in mind to start any code written in Python 2.7 or earlier with this line. If you have installed Python 3.2 or higher you can skip this line.\n",
    "from __future__ import division\n",
    "-->"
   ]
  },
  {
   "cell_type": "markdown",
   "metadata": {},
   "source": [
    "First, we need to define the number of individuals in the population. Say we want to start with 100 people. The text after a hash symbol is just a comment so you can skip it for now, but in general it is a good idea to keep documenting the code as you write it."
   ]
  },
  {
   "cell_type": "code",
   "execution_count": null,
   "metadata": {
    "collapsed": true
   },
   "outputs": [],
   "source": [
    "N = 100   # total population size"
   ]
  },
  {
   "cell_type": "markdown",
   "metadata": {},
   "source": [
    "Then, we decide on how many believers of each cultural option (religion) we want to start with. "
   ]
  },
  {
   "cell_type": "code",
   "execution_count": null,
   "metadata": {
    "collapsed": true
   },
   "outputs": [],
   "source": [
    "A = 30    # initial number of believers A\n",
    "B = N - A"
   ]
  },
  {
   "cell_type": "markdown",
   "metadata": {},
   "source": [
    "Finally, we want to update these quantities at every time step:"
   ]
  },
  {
   "cell_type": "code",
   "execution_count": null,
   "metadata": {
    "collapsed": false
   },
   "outputs": [],
   "source": [
    "t = 0\n",
    "MAX_TIME = 100\n",
    "while t < MAX_TIME:\n",
    "    A = A + change\n",
    "    B = B + change\n",
    "    t += 1"
   ]
  },
  {
   "cell_type": "markdown",
   "metadata": {},
   "source": [
    "Type the code in the code tab. Keep in mind that indents are important. \n",
    "\n",
    "Run the code by hitting F5 (or click on a green triangle). What happens? "
   ]
  },
  {
   "cell_type": "markdown",
   "metadata": {},
   "source": [
    "Well, nothing happens or, rather, we get an error. \n",
    "```python\n",
    "NameError: name change is not defined \n",
    "```\n",
    "Indeed, we have not defined what do we mean by 'change'. So let's calculate the change from the pool of believers A to the pool of believers B. \n",
    "As we mentioned the transmission of believers from one trait to the other is determined by the number of adopters of the trait as well as its internal attractiveness. "
   ]
  },
  {
   "cell_type": "markdown",
   "metadata": {},
   "source": [
    "To define the transmission we need to implement the following competition equations:\n",
    "\n",
    "\\begin{equation*}\n",
    "\\Delta_{B\\to A} = \\frac{A_t}{N}\\ \\frac {T_A} {(T_A + T_B)}\\\n",
    "\\end{equation*} \n",
    "\n",
    "\n",
    "\\begin{equation*}\n",
    "\\Delta_{A\\to B} = \\frac{B_t}{N}\\ \\frac {T_B} {(T_A + T_B)}\\\n",
    "\\end{equation*} \n",
    "\n",
    "Let's look at the equations a bit more closely. The first term is the proportion of the entire population N holding a particular cultural trait ($\\frac {A_t}{N}$ for $A$ and $\\frac {B_t}{N}$ for $B$). While the second element of the equations is the balance between the attractiveness of both ideas ($T_A$ and $T_B$) expressed as the attractiveness of the given trait in respect to the total 'available' attractiveness ($T_A + T_B$). \n",
    "\n",
    "You have probably immediately noticed that these two equations are the same in structure and only differ in terms of what is put into them. Therefore, to avoid unnecessary hassle we will create a 'universal' function that can be used for both. Type the code below at the end of your script. "
   ]
  },
  {
   "cell_type": "code",
   "execution_count": null,
   "metadata": {
    "collapsed": true
   },
   "outputs": [],
   "source": [
    "def transmission(no_believers, Tx,Ty):\n",
    "\n",
    "    no_adopters = (no_believers / N) \n",
    "    attraction = Tx / (Tx + Ty)\n",
    "    return no_adopters * attraction"
   ]
  },
  {
   "cell_type": "markdown",
   "metadata": {},
   "source": [
    "Let's break it down a little. First we define the function and give it the input - the number of believers and the two values that define how attractive each cultural option is. \n",
    "\n",
    "def transmission(no_believers, Tx, Ty):\n",
    "\n",
    "Then we calculate two values:\n",
    "\n",
    "1. number of people who belong to this cultural option\n",
    "\n",
    "```python\n",
    "    no_adopters = (no_believers / N)\n",
    "```    \n",
    "\n",
    "2. how attractive the option is\n",
    "```python\n",
    "    attraction = Tx / (Tx + Ty)\n",
    "```    \n",
    "\n",
    "Look at the equations above, the first element is just the $\\frac {A_t}{N}$ and $\\frac {B_t}{N}$ part and the second is this bit: $\\frac {T_A} {(T_A + T_B)}$. \n",
    "Finally we return the results of the calculations. \n",
    "```python\n",
    "    return no_adopters * attraction\n",
    "```\n",
    "\n",
    "Voila! We have implemented the equation into Python code. Now, let's call the function - we need to do it twice to get the change from A to B and from B to A and each time we can pass different values into it. So to get the change from B to A we use \n",
    "```python\n",
    "changeBA = transmission(A, Ta, Tb)\n",
    "```\n",
    "and to get the change from A to B: \n",
    "```python\n",
    "changeBA = transmission(B, Tb, Ta)\n",
    "```\n",
    "That is, we pass the number of believers and the attractiveness of the traits. The order in which we pass the input variables into a function is important. In the B to A tranmission, B becomes 'no_believers', while Ta becomes 'Tx' and Tb becomes 'Ty'. In the second line showing the A to B transmission, A becomes 'no_believers', Tb becomes 'Tx' and Ta becomes 'Ty'.  "
   ]
  },
  {
   "cell_type": "markdown",
   "metadata": {},
   "source": [
    "We can use an additional term to have a control over how strong the transmission from A to B and back is - we will call it alpha (α). Add the alpha term to the two lines of code. It should now look like this:"
   ]
  },
  {
   "cell_type": "code",
   "execution_count": null,
   "metadata": {
    "collapsed": false
   },
   "outputs": [],
   "source": [
    "    # calculate the change between believers A and B in the current time step       \n",
    "    changeBA = alpha * transmission(A, Ta, Tb)      \n",
    "    changeAB = alpha * transmission(B, Tb, Ta) "
   ]
  },
  {
   "cell_type": "markdown",
   "metadata": {},
   "source": [
    "The obvious problem now is that we have not defined the alpha or the 'attractiveness' of each trait. To do so add their definitions at the beginning of the script around other definitions (N, A, B, MAX_TIME, etc). "
   ]
  },
  {
   "cell_type": "code",
   "execution_count": null,
   "metadata": {
    "collapsed": true
   },
   "outputs": [],
   "source": [
    "Ta = 1.0            # initial attractiveness of option A\n",
    "Tb = 1.1            # initial attractiveness of option B\n",
    "alpha = 0.1         # strength of the transmission process"
   ]
  },
  {
   "cell_type": "markdown",
   "metadata": {},
   "source": [
    "We can now calculate how many people switched sides in this time step. To do so, we need to first see which way they went (from A to B or from B to A).  "
   ]
  },
  {
   "cell_type": "code",
   "execution_count": null,
   "metadata": {
    "collapsed": false
   },
   "outputs": [],
   "source": [
    "    finalDiff = changeBA - changeAB"
   ]
  },
  {
   "cell_type": "markdown",
   "metadata": {},
   "source": [
    "Now, if the difference between the two is negative then we know that more people left A than B, if it is positive than more people left B than A. What is left is to see how many people moved. We can express it in the main while loop, like this:"
   ]
  },
  {
   "cell_type": "code",
   "execution_count": null,
   "metadata": {
    "collapsed": true
   },
   "outputs": [],
   "source": [
    "    # B -> A\n",
    "    if finalDiff > 0:\n",
    "        change = finalDiff*B\n",
    "    # A -> B        \n",
    "    else:\n",
    "        change = finalDiff*A\n",
    "    # update the population    \n",
    "    A = A + change\n",
    "    B = B - change    "
   ]
  },
  {
   "cell_type": "markdown",
   "metadata": {},
   "source": [
    "Note that we had to change the sign in \n",
    "```python\n",
    "B = B + change\n",
    "```\n",
    "this is because, if more people moved from A to B then the 'change' will be negative, hence we need to substract them (two - is a +) and vice versa.  "
   ]
  },
  {
   "cell_type": "markdown",
   "metadata": {},
   "source": [
    "OK, we have all the elements ready now and if you run the code the computer will churn all the numbers somewhere in the bacground. However, it produces no output so we have no idea what is actually happening. Let's solve this by visualising the flow of believers from one option to another. \n",
    "First, we will create two empty lists. Then, at each timestep, we will add the current number of believers to these lists and finally, at the end of the simulation run we will plot them to see how they changed over time. \n",
    "Start with creating two empty lists. Add the following code right after all the variable definitions at the beginning of the code before the while loop: "
   ]
  },
  {
   "cell_type": "code",
   "execution_count": null,
   "metadata": {
    "collapsed": true
   },
   "outputs": [],
   "source": [
    "believersA = []    \n",
    "believersB = []"
   ]
  },
  {
   "cell_type": "markdown",
   "metadata": {},
   "source": [
    "The whole initialisation/definition block at the beginning of your code should look like this: "
   ]
  },
  {
   "cell_type": "code",
   "execution_count": null,
   "metadata": {
    "collapsed": true
   },
   "outputs": [],
   "source": [
    "# initialisation \n",
    "MAX_TIME = 100\n",
    "t = 0               # initial time\n",
    "N = 100.0           # population size\n",
    "A = 50              # initial proportion of believers A\n",
    "B = N-A             # initial proportion of believers B\n",
    "\n",
    "Ta = 1.0            # initial attractiveness of option A\n",
    "Tb = 1.1            # initial attractiveness of option B\n",
    "alpha = 0.1         # strength of the transmission process\n",
    "\n",
    "believersA = []    # the first value is equal to the initialisation value (defined above)\n",
    "believersB = []"
   ]
  },
  {
   "cell_type": "markdown",
   "metadata": {},
   "source": [
    "Let's now add the numbers of believers to their respective lists. Add the following code at the end of the while loop - remember to align the indents with the previous line! "
   ]
  },
  {
   "cell_type": "code",
   "execution_count": null,
   "metadata": {
    "collapsed": true
   },
   "outputs": [],
   "source": [
    "    believersA.append(A)\n",
    "    believersB.append(B)"
   ]
  },
  {
   "cell_type": "markdown",
   "metadata": {},
   "source": [
    "The whole while-loop block should now look like this: "
   ]
  },
  {
   "cell_type": "code",
   "execution_count": null,
   "metadata": {
    "collapsed": false
   },
   "outputs": [],
   "source": [
    "while t < MAX_TIME: \n",
    "    \n",
    "    # calculate the change between believers A and B in the current time step       \n",
    "    changeBA = alpha * transmission(A, Ta, Tb)       \n",
    "    changeAB = alpha * transmission(B, Tb, Ta)\n",
    "    \n",
    "    finalDiff = changeBA - changeAB\n",
    "    \n",
    "    # B -> A\n",
    "    if finalDiff > 0:\n",
    "        change = finalDiff*B\n",
    "    # A -> B        \n",
    "    else:\n",
    "        change = finalDiff*A\n",
    "    \n",
    "    # update the population    \n",
    "    A = A + change \n",
    "    B = B - change\n",
    "\n",
    "    # save the values to a list for plotting    \n",
    "    believersA.append(A)\n",
    "    believersB.append(B)\n",
    "        \n",
    "    # time = time + 1        \n",
    "    t+=1 "
   ]
  },
  {
   "cell_type": "markdown",
   "metadata": {},
   "source": [
    "Finally, let's plot the results. First, we will import Python's plotting library, Matplotlib and use a predifined plotting style. Add these two lines at the beginning of your script:"
   ]
  },
  {
   "cell_type": "code",
   "execution_count": null,
   "metadata": {
    "collapsed": true
   },
   "outputs": [],
   "source": [
    "import matplotlib.pyplot as plt\n",
    "plt.style.use('ggplot') "
   ]
  },
  {
   "cell_type": "markdown",
   "metadata": {},
   "source": [
    "Finally, let's plot! Plotting in Python is as easy as saying 'please plot this data for me'. Type these two lines at the very end of your code. We only want to plot the results once the simulation has finished so make sure this are not inside the while loop - to do so, ensure this block of code is not indented. Run the code!"
   ]
  },
  {
   "cell_type": "code",
   "execution_count": 15,
   "metadata": {
    "collapsed": false
   },
   "outputs": [
    {
     "data": {
      "text/plain": [
       "[<matplotlib.lines.Line2D at 0x7f8b2ea4e828>]"
      ]
     },
     "execution_count": 15,
     "metadata": {},
     "output_type": "execute_result"
    },
    {
     "data": {
      "image/png": "[encoded data removed]",
      "text/plain": [
       "<matplotlib.figure.Figure at 0x7f8b2ea4e470>"
      ]
     },
     "metadata": {},
     "output_type": "display_data"
    }
   ],
   "source": [
    "# plot the results    \n",
    "plt.plot(believersA)\n",
    "plt.plot(believersB) "
   ]
  },
  {
   "cell_type": "markdown",
   "metadata": {},
   "source": [
    "You can see how over time one set of believers increases while the other decreases. Have a go at setting the variables to different initial values:\n",
    "1. set the initial value of A to 5, 10, 25, 50, 75\n",
    "2. set the MAX_TIME to 1000,\n",
    "3. set the Ta and Tb to 1.0, 1.1, 0.9, 0.01, etc.,\n",
    "4. set alpha to 0.01, 0.1, 1.0 and 10.00. \n",
    "\n",
    "You can try all sorts of configurations to see how quickly the population shifts from one option to another. We can make the model more interesting though if allow the attractiveness to change through time. To do so let's define a new function. Add the following line at the beginning of the while loop (remember indentation!). "
   ]
  },
  {
   "cell_type": "code",
   "execution_count": null,
   "metadata": {
    "collapsed": false
   },
   "outputs": [],
   "source": [
    "    Ta_now, Tb_now = attractiveness(Ta, Tb) "
   ]
  },
  {
   "cell_type": "markdown",
   "metadata": {},
   "source": [
    "And let's define the 'attractiveness' function. We have already done it once for the the 'transmission' function so it should be a piece of cake. At each time step we will slightly modify the attractiveness of each trait using a stochastic kernel K. This can be expressed as: \n",
    "\n",
    "\\begin{equation*}\n",
    "T_{A, t+1} = {T_A} + {K_a}\n",
    "\\end{equation*} \n",
    "\n",
    "\\begin{equation*}\n",
    "T_{B, t+1} = {T_B} + {K_b}\n",
    "\\end{equation*} \n",
    "\n",
    "K can have several shapes such as:\n",
    "* Fixed traits with $K_a$ = $K_b$ = 0\n",
    "* Gaussian process with K = N (0, 1)\n",
    "* A combination (e.g., $K_a$ = N (0, 1) and $K_b$ = t/3)\n",
    "\n",
    "Let's start with a fixed case scenario, i.e., $K_a$ and $K_b$ are both equal to zero. "
   ]
  },
  {
   "cell_type": "code",
   "execution_count": null,
   "metadata": {
    "collapsed": true
   },
   "outputs": [],
   "source": [
    "def attractiveness(Ta, Tb):\n",
    "\n",
    "    Ka = 0  \n",
    "    Kb = 0\n",
    "    \n",
    "    Ta = Ta + Ka\n",
    "    Tb = Tb + Kb\n",
    "    return Ta, Tb"
   ]
  },
  {
   "cell_type": "markdown",
   "metadata": {},
   "source": [
    "First, we define the function and give it the input values. \n",
    "```python\n",
    "def attractiveness(Ta, Tb):\n",
    "```\n",
    "\n",
    "Then, we establish how much the attractiveness of each trait changes (i.e., calculate $K_a$ and $K_b$)\n",
    "```python \n",
    "Ka = 0         \n",
    "Kb = 0\n",
    "```\n",
    "\n",
    "And plug them into the equations:\n",
    "\n",
    "```python \n",
    "Ta = Ta + Ka\n",
    "Tb = Tb + Kb\n",
    "```\n",
    "\n",
    "Finally, we return the new values:\n",
    "```python \n",
    "return Ta, Tb\n",
    "```\n",
    "Have a go at changing the values of $K_a$ and $K_b$ and see what happens. "
   ]
  },
  {
   "cell_type": "markdown",
   "metadata": {},
   "source": [
    "There are a number of functions we can use to dynamically change the 'attractiveness' of each trait. Try the following ones:\n"
   ]
  },
  {
   "cell_type": "code",
   "execution_count": 16,
   "metadata": {
    "collapsed": true
   },
   "outputs": [],
   "source": [
    "import numpy as np # stick this line at the beginning of the script alongside other 'imports'\n",
    "\n",
    "\n",
    "def attractiveness1(Ta, Tb):\n",
    "    \"\"\"\n",
    "    OPTION 2 - gaussian noise\n",
    "    \"\"\"\n",
    "\n",
    "    Ka, Kb = np.random.normal(0, 1, 2)    \n",
    "    \n",
    "    # the winner is the difference between the 2\n",
    "    minValue = min(Ka,Kb)\n",
    "    \n",
    "    Ta = Ka - minValue\n",
    "    Tb = Kb - minValue\n",
    "\n",
    "    return Ta, Tb\n",
    "\n",
    "def attractiveness2(Ta, Tb):\n",
    "    \"\"\"\n",
    "    OPTION 3 - anti-conformist behavior (the more people follow the religion the less attractive it is)\n",
    "    we use gamma to add some stochasticity\n",
    "    \"\"\"\n",
    "    Ka = 0\n",
    "    Kb = 0    \n",
    "    \n",
    "    diffPop = np.random.gamma(0.1*believersA[t]) - np.random.gamma(0.1*believersB[t])\n",
    "    \n",
    "    if diffPop < 0:\n",
    "        Ka = -diffPop\n",
    "    else:\n",
    "        Kb = diffPop\n",
    "    \n",
    "    # add 1 to avoid dividing by 0 if both are 0        \n",
    "    Ta = 1 + Ka\n",
    "    Tb = 1 + Kb\n",
    "    \n",
    "    return Ta, Tb"
   ]
  },
  {
   "cell_type": "markdown",
   "metadata": {},
   "source": [
    "Use the functions above (just change 'attractiveness' to, e.g., 'attractiveness2' in the main code) to see what happens when we add small dynamic variations to the process. What happens when the initial conditions are changed? What if we look at much longer time scale? "
   ]
  },
  {
   "cell_type": "code",
   "execution_count": null,
   "metadata": {
    "collapsed": true
   },
   "outputs": [],
   "source": []
  }
 ],
 "metadata": {
  "kernelspec": {
   "display_name": "Python 3",
   "language": "python",
   "name": "python3"
  },
  "language_info": {
   "codemirror_mode": {
    "name": "ipython",
    "version": 3
   },
   "file_extension": ".py",
   "mimetype": "text/x-python",
   "name": "python",
   "nbconvert_exporter": "python",
   "pygments_lexer": "ipython3",
   "version": "3.4.3"
  }
 },
 "nbformat": 4,
 "nbformat_minor": 0
}
